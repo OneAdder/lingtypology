{
 "cells": [
  {
   "cell_type": "markdown",
   "metadata": {},
   "source": [
    "## LingTypology\n",
    "\n",
    "LingTypology is a package that tries to bring functionality of the R\n",
    "[package](https://github.com/ropensci/lingtypology)\n",
    "of the same name.  \n",
    "By now `lingtypology` is able to create interactive linguistic maps and has API for several linguistic databases.  \n",
    "There is a tutorial that allows to start using `lingtypology`:\n",
    "1. [Interactive linguistic maps](https://oneadder.github.io/lingtypology/maps)\n",
    "2. [Glottolog](https://oneadder.github.io/lingtypology/glottolog)\n",
    "3. [API for Wals, Autotyp etc.](https://oneadder.github.io/lingtypology/db_apis)\n",
    "4. [Documentation](https://oneadder.github.io/lingtypology/docs)\n",
    "\n",
    "## Credits <a name=\"credits\"></a>\n",
    "\n",
    "This Python package is inspired by the [R package](https://github.com/ropensci/lingtypology) made by [agricolamz](https://github.com/agricolamz).  \n",
    "Also this module uses JavaScript library [Leaflet](https://leafletjs.com/) and its Python-wrapper [Folium](https://github.com/python-visualization/folium) and [Branca](https://github.com/python-visualization/branca).  \n",
    "Also, special thanks to [Xrotwang](https://github.com/xrotwang) for helping me with the package.\n",
    "\n",
    "## Citation <a name=\"citation\"></a>\n",
    "\n",
    "It will be most appreciated if you cite `lingtypology`. To find out the recommended way to do so, consult the [readme](https://github.com/OneAdder/lingtypology/blob/master/README.md).\n",
    "\n",
    "## License <a name=\"license\"></a>\n",
    "\n",
    "Copyright (C) 2018-2019  Michael Voronov\n",
    "\n",
    "This program is free software: you can redistribute it and/or modify  \n",
    "it under the terms of the GNU General Public License as published by  \n",
    "the Free Software Foundation, either version 3 of the License, or  \n",
    "(at your option) any later version.\n",
    "\n",
    "This program is distributed in the hope that it will be useful,  \n",
    "but WITHOUT ANY WARRANTY; without even the implied warranty of  \n",
    "MERCHANTABILITY or FITNESS FOR A PARTICULAR PURPOSE.  See the  \n",
    "[GNU General Public License](https://github.com/OneAdder/lingtypology/blob/master/LICENSE.md) for more details."
   ]
  }
 ],
 "metadata": {
  "kernelspec": {
   "display_name": "Python 3",
   "language": "python",
   "name": "python3"
  },
  "language_info": {
   "codemirror_mode": {
    "name": "ipython",
    "version": 3
   },
   "file_extension": ".py",
   "mimetype": "text/x-python",
   "name": "python",
   "nbconvert_exporter": "python",
   "pygments_lexer": "ipython3",
   "version": "3.7.3rc1"
  },
  "title": "Lingtypology"
 },
 "nbformat": 4,
 "nbformat_minor": 2
}
